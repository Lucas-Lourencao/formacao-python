{
 "cells": [
  {
   "attachments": {},
   "cell_type": "markdown",
   "metadata": {},
   "source": [
    "### Gerenciador de Pacotes."
   ]
  },
  {
   "cell_type": "code",
   "execution_count": null,
   "metadata": {},
   "outputs": [],
   "source": [
    "!pip install matplotlib"
   ]
  },
  {
   "cell_type": "markdown",
   "metadata": {},
   "source": [
    "- Anotações:\n",
    "    - Junto da lib matplotlib vem várias outras pacotes/dependencias;\n",
    "    - Por isso é fundamental a utilização de ambientes virtuais, desse modo evita-se alguns problemas como:\n",
    "        - incompatibilidade de pacotes com versões distintas;\n",
    "        - sobrescrição de pacotes com versões distintas;\n",
    "    - curiosidade 01: \n",
    "        - A exclamação que antecede o pip (!pip) é um mecanismo de comunicação com o SO. Teste o comando !dir;\n",
    "    - curiosidade 02: \n",
    "        - pyplot as plt, é o mesmo que fazer .: plt = pyplot;"
   ]
  },
  {
   "cell_type": "code",
   "execution_count": null,
   "metadata": {},
   "outputs": [],
   "source": [
    "!dir"
   ]
  },
  {
   "cell_type": "code",
   "execution_count": null,
   "metadata": {},
   "outputs": [],
   "source": [
    "from matplotlib import pyplot as plt"
   ]
  },
  {
   "cell_type": "markdown",
   "metadata": {},
   "source": [
    "### Outros Gerenciadores de Pacotes:\n",
    "- pip;\n",
    "- easy_install (descontinuado);\n",
    "- conda;"
   ]
  },
  {
   "cell_type": "markdown",
   "metadata": {},
   "source": [
    "#### Verificando os pacotes instalados junto com a lib matplotlib:\n",
    "- Após rodar o comando abaixo, verifique o arquivo requirements.txt gerado no diretório."
   ]
  },
  {
   "cell_type": "code",
   "execution_count": null,
   "metadata": {},
   "outputs": [],
   "source": [
    "!pip freeze >> requirements.txt"
   ]
  },
  {
   "cell_type": "markdown",
   "metadata": {},
   "source": [
    "### Utilização dos pacotes e referências de busca do Python\n",
    "- Primeiro ponto de busca de um módulo/pacote é um diretório local;\n",
    "- Segundo ponto de busca de um módulo/pacote é a lib do próprio Python;\n",
    "\n",
    "Veja os exemplos abaixo:"
   ]
  },
  {
   "cell_type": "markdown",
   "metadata": {},
   "source": [
    "##### Teste local: \n",
    "\n",
    "C:\\Users\\lucas\\OneDrive\\Documentos\\GitHub\\formacao-python\\mentorama-python-avancado\\mod-01\\mentorama\\modulo_local.py"
   ]
  },
  {
   "cell_type": "code",
   "execution_count": null,
   "metadata": {},
   "outputs": [],
   "source": [
    "from mentorama.modulo_local import teste_de_modulo"
   ]
  },
  {
   "cell_type": "code",
   "execution_count": null,
   "metadata": {},
   "outputs": [],
   "source": [
    "teste_de_modulo()"
   ]
  },
  {
   "cell_type": "markdown",
   "metadata": {},
   "source": [
    "#### Teste não local:\n",
    "- Repare que após finalizar a execução do python e modificar o diretorio mentorama para mentorama_modificado, a execução do módulo mentorama será buscada na biblioteca do python;\n",
    "\n",
    "C:\\Users\\lucas\\anaconda3\\Lib\\mentorama\\modulo_local.py"
   ]
  },
  {
   "cell_type": "code",
   "execution_count": null,
   "metadata": {},
   "outputs": [],
   "source": [
    "from mentorama.modulo_local import teste_de_modulo"
   ]
  },
  {
   "cell_type": "code",
   "execution_count": null,
   "metadata": {},
   "outputs": [],
   "source": [
    "teste_de_modulo()"
   ]
  }
 ],
 "metadata": {
  "kernelspec": {
   "display_name": "Python 3 (ipykernel)",
   "language": "python",
   "name": "python3"
  },
  "language_info": {
   "codemirror_mode": {
    "name": "ipython",
    "version": 3
   },
   "file_extension": ".py",
   "mimetype": "text/x-python",
   "name": "python",
   "nbconvert_exporter": "python",
   "pygments_lexer": "ipython3",
   "version": "3.9.13"
  }
 },
 "nbformat": 4,
 "nbformat_minor": 2
}
