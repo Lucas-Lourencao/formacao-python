{
 "cells": [
  {
   "cell_type": "markdown",
   "metadata": {},
   "source": [
    "### Gerenciador de Pacotes"
   ]
  },
  {
   "cell_type": "code",
   "execution_count": 1,
   "metadata": {},
   "outputs": [
    {
     "name": "stdout",
     "output_type": "stream",
     "text": [
      "Requirement already satisfied: matplotlib in c:\\users\\lucas\\anaconda3\\lib\\site-packages (3.5.2)\n",
      "Requirement already satisfied: fonttools>=4.22.0 in c:\\users\\lucas\\anaconda3\\lib\\site-packages (from matplotlib) (4.25.0)\n",
      "Requirement already satisfied: numpy>=1.17 in c:\\users\\lucas\\anaconda3\\lib\\site-packages (from matplotlib) (1.21.5)\n",
      "Requirement already satisfied: cycler>=0.10 in c:\\users\\lucas\\anaconda3\\lib\\site-packages (from matplotlib) (0.11.0)\n",
      "Requirement already satisfied: python-dateutil>=2.7 in c:\\users\\lucas\\anaconda3\\lib\\site-packages (from matplotlib) (2.8.2)\n",
      "Requirement already satisfied: kiwisolver>=1.0.1 in c:\\users\\lucas\\anaconda3\\lib\\site-packages (from matplotlib) (1.4.2)\n",
      "Requirement already satisfied: pillow>=6.2.0 in c:\\users\\lucas\\anaconda3\\lib\\site-packages (from matplotlib) (9.2.0)\n",
      "Requirement already satisfied: pyparsing>=2.2.1 in c:\\users\\lucas\\anaconda3\\lib\\site-packages (from matplotlib) (3.0.9)\n",
      "Requirement already satisfied: packaging>=20.0 in c:\\users\\lucas\\anaconda3\\lib\\site-packages (from matplotlib) (21.3)\n",
      "Requirement already satisfied: six>=1.5 in c:\\users\\lucas\\anaconda3\\lib\\site-packages (from python-dateutil>=2.7->matplotlib) (1.16.0)\n"
     ]
    }
   ],
   "source": [
    "!pip install matplotlib"
   ]
  },
  {
   "cell_type": "markdown",
   "metadata": {},
   "source": [
    "- Anotações:\n",
    "    - Junto da lib matplotlib vem várias outras pacotes/dependencias;\n",
    "    - Por isso é fundamental a utilização de ambientes virtuais, desse modo evita-se alguns problemas como:\n",
    "        - incompatibilidade de pacotes com versões distintas;\n",
    "        - sobrescrição de pacotes com versões distintas;\n",
    "    - curiosidade 01: \n",
    "        - A exclamação que antecede o pip (!pip) é um mecanismo de comunicação com o SO. Teste o comando !dir;\n",
    "    - curiosidade 02: \n",
    "        - pyplot as plt, é o mesmo que fazer .: plt = pyplot;"
   ]
  },
  {
   "cell_type": "code",
   "execution_count": 5,
   "metadata": {},
   "outputs": [
    {
     "name": "stdout",
     "output_type": "stream",
     "text": [
      " O volume na unidade C nÆo tem nome.\n",
      " O N£mero de S‚rie do Volume ‚ D685-C8BE\n",
      "\n",
      " Pasta de C:\\Users\\lucas\\OneDrive\\Documentos\\GitHub\\formacao-python\\mentorama-python-avancado\\mod-01\n",
      "\n",
      "11/03/2023  15:29    <DIR>          .\n",
      "11/03/2023  15:29    <DIR>          ..\n",
      "11/03/2023  15:21    <DIR>          .ipynb_checkpoints\n",
      "11/03/2023  15:29             3.394 aula-01.ipynb\n",
      "               1 arquivo(s)          3.394 bytes\n",
      "               3 pasta(s)   17.146.089.472 bytes dispon¡veis\n"
     ]
    }
   ],
   "source": [
    "!dir"
   ]
  },
  {
   "cell_type": "code",
   "execution_count": 2,
   "metadata": {},
   "outputs": [],
   "source": [
    "from matplotlib import pyplot as plt"
   ]
  },
  {
   "cell_type": "markdown",
   "metadata": {},
   "source": [
    "### Outros Gerenciadores de Pacotes:\n",
    "- pip;\n",
    "- easy_install (descontinuado);\n",
    "- conda;"
   ]
  },
  {
   "cell_type": "markdown",
   "metadata": {},
   "source": [
    "#### Verificando os pacotes instalados junto com a lib matplotlib:\n",
    "- Após rodar o comando abaixo, verifique o arquivo requirements.txt gerado no diretório."
   ]
  },
  {
   "cell_type": "code",
   "execution_count": 6,
   "metadata": {},
   "outputs": [],
   "source": [
    "!pip freeze >> requirements.txt"
   ]
  },
  {
   "cell_type": "markdown",
   "metadata": {},
   "source": [
    "### Utilização dos pacotes e referências de busca do Python\n",
    "- Primeiro ponto de busca de um módulo/pacote é um diretório local;\n",
    "- Segundo ponto de busca de um módulo/pacote é a lib do próprio Python;\n",
    "\n",
    "Veja os exemplos abaixo:"
   ]
  },
  {
   "cell_type": "markdown",
   "metadata": {},
   "source": [
    "##### Teste local: \n",
    "\n",
    "C:\\Users\\lucas\\OneDrive\\Documentos\\GitHub\\formacao-python\\mentorama-python-avancado\\mod-01\\mentorama\\modulo_local.py"
   ]
  },
  {
   "cell_type": "code",
   "execution_count": 11,
   "metadata": {},
   "outputs": [],
   "source": [
    "from mentorama.modulo_local import teste_de_modulo"
   ]
  },
  {
   "cell_type": "code",
   "execution_count": 12,
   "metadata": {},
   "outputs": [
    {
     "name": "stdout",
     "output_type": "stream",
     "text": [
      "Você fez uma solicitação local!\n"
     ]
    }
   ],
   "source": [
    "teste_de_modulo()"
   ]
  },
  {
   "cell_type": "markdown",
   "metadata": {},
   "source": [
    "#### Teste não local:\n",
    "\n",
    "C:\\Users\\lucas\\anaconda3\\Lib\\mentorama\\modulo_local.py"
   ]
  },
  {
   "cell_type": "code",
   "execution_count": 13,
   "metadata": {},
   "outputs": [],
   "source": [
    "from mentorama.modulo_local import teste_de_modulo"
   ]
  },
  {
   "cell_type": "code",
   "execution_count": 14,
   "metadata": {},
   "outputs": [
    {
     "name": "stdout",
     "output_type": "stream",
     "text": [
      "Você fez uma solicitação local!\n"
     ]
    }
   ],
   "source": [
    "teste_de_modulo()"
   ]
  },
  {
   "cell_type": "code",
   "execution_count": null,
   "metadata": {},
   "outputs": [],
   "source": []
  }
 ],
 "metadata": {
  "kernelspec": {
   "display_name": "Python 3 (ipykernel)",
   "language": "python",
   "name": "python3"
  },
  "language_info": {
   "codemirror_mode": {
    "name": "ipython",
    "version": 3
   },
   "file_extension": ".py",
   "mimetype": "text/x-python",
   "name": "python",
   "nbconvert_exporter": "python",
   "pygments_lexer": "ipython3",
   "version": "3.9.13"
  }
 },
 "nbformat": 4,
 "nbformat_minor": 2
}
